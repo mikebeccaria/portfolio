{
 "cells": [
  {
   "cell_type": "markdown",
   "id": "522f94f5",
   "metadata": {},
   "source": [
    "I have been reading \"Naked Statistics: Stripping the Dread from the Data\" by Charles Wheelan (ISBN: 978-0-393-07195-5) and wanted to try to test out the central limit theorum in python with some raw data. The chapter on regression analysis (chapter 11) posites that \"we expect that more than half of our observed regression coefficients will lie within one standard error of the true population parameters.\" In the example below, I used the slope relationships between two variables (height and weight) in a data set that includes gender, height and weight of people to see if the theory holds when pulling subsamples from the set. If the central limit theorum holds, the relationship of subsamples of the data set should fall within a normal distribution curve of the primary data set (68% within 1 standard error, 95% within 2 standard errors). Let's check it out."
   ]
  },
  {
   "cell_type": "code",
   "execution_count": 1,
   "id": "76fff4a4",
   "metadata": {},
   "outputs": [],
   "source": [
    "import numpy as np\n",
    "import pandas as pd\n",
    "np.random.seed(101)\n",
    "import matplotlib.pyplot as plt\n",
    "import seaborn as sns\n",
    "from scipy import stats\n",
    "import math"
   ]
  },
  {
   "cell_type": "code",
   "execution_count": 2,
   "id": "d93bf610",
   "metadata": {},
   "outputs": [],
   "source": [
    "dataset = pd.read_csv(\"weight-height.csv\") #data from https://www.kaggle.com/mustafaali96/weight-height"
   ]
  },
  {
   "cell_type": "markdown",
   "id": "03b20acb",
   "metadata": {},
   "source": [
    "Check that the dataset loaded and look at the results"
   ]
  },
  {
   "cell_type": "code",
   "execution_count": 3,
   "id": "13f120a5",
   "metadata": {},
   "outputs": [
    {
     "data": {
      "text/html": [
       "<div>\n",
       "<style scoped>\n",
       "    .dataframe tbody tr th:only-of-type {\n",
       "        vertical-align: middle;\n",
       "    }\n",
       "\n",
       "    .dataframe tbody tr th {\n",
       "        vertical-align: top;\n",
       "    }\n",
       "\n",
       "    .dataframe thead th {\n",
       "        text-align: right;\n",
       "    }\n",
       "</style>\n",
       "<table border=\"1\" class=\"dataframe\">\n",
       "  <thead>\n",
       "    <tr style=\"text-align: right;\">\n",
       "      <th></th>\n",
       "      <th>Gender</th>\n",
       "      <th>Height</th>\n",
       "      <th>Weight</th>\n",
       "    </tr>\n",
       "  </thead>\n",
       "  <tbody>\n",
       "    <tr>\n",
       "      <th>0</th>\n",
       "      <td>Male</td>\n",
       "      <td>73.847017</td>\n",
       "      <td>241.893563</td>\n",
       "    </tr>\n",
       "    <tr>\n",
       "      <th>1</th>\n",
       "      <td>Male</td>\n",
       "      <td>68.781904</td>\n",
       "      <td>162.310473</td>\n",
       "    </tr>\n",
       "    <tr>\n",
       "      <th>2</th>\n",
       "      <td>Male</td>\n",
       "      <td>74.110105</td>\n",
       "      <td>212.740856</td>\n",
       "    </tr>\n",
       "    <tr>\n",
       "      <th>3</th>\n",
       "      <td>Male</td>\n",
       "      <td>71.730978</td>\n",
       "      <td>220.042470</td>\n",
       "    </tr>\n",
       "    <tr>\n",
       "      <th>4</th>\n",
       "      <td>Male</td>\n",
       "      <td>69.881796</td>\n",
       "      <td>206.349801</td>\n",
       "    </tr>\n",
       "    <tr>\n",
       "      <th>...</th>\n",
       "      <td>...</td>\n",
       "      <td>...</td>\n",
       "      <td>...</td>\n",
       "    </tr>\n",
       "    <tr>\n",
       "      <th>9995</th>\n",
       "      <td>Female</td>\n",
       "      <td>66.172652</td>\n",
       "      <td>136.777454</td>\n",
       "    </tr>\n",
       "    <tr>\n",
       "      <th>9996</th>\n",
       "      <td>Female</td>\n",
       "      <td>67.067155</td>\n",
       "      <td>170.867906</td>\n",
       "    </tr>\n",
       "    <tr>\n",
       "      <th>9997</th>\n",
       "      <td>Female</td>\n",
       "      <td>63.867992</td>\n",
       "      <td>128.475319</td>\n",
       "    </tr>\n",
       "    <tr>\n",
       "      <th>9998</th>\n",
       "      <td>Female</td>\n",
       "      <td>69.034243</td>\n",
       "      <td>163.852461</td>\n",
       "    </tr>\n",
       "    <tr>\n",
       "      <th>9999</th>\n",
       "      <td>Female</td>\n",
       "      <td>61.944246</td>\n",
       "      <td>113.649103</td>\n",
       "    </tr>\n",
       "  </tbody>\n",
       "</table>\n",
       "<p>10000 rows × 3 columns</p>\n",
       "</div>"
      ],
      "text/plain": [
       "      Gender     Height      Weight\n",
       "0       Male  73.847017  241.893563\n",
       "1       Male  68.781904  162.310473\n",
       "2       Male  74.110105  212.740856\n",
       "3       Male  71.730978  220.042470\n",
       "4       Male  69.881796  206.349801\n",
       "...      ...        ...         ...\n",
       "9995  Female  66.172652  136.777454\n",
       "9996  Female  67.067155  170.867906\n",
       "9997  Female  63.867992  128.475319\n",
       "9998  Female  69.034243  163.852461\n",
       "9999  Female  61.944246  113.649103\n",
       "\n",
       "[10000 rows x 3 columns]"
      ]
     },
     "execution_count": 3,
     "metadata": {},
     "output_type": "execute_result"
    }
   ],
   "source": [
    "dataset"
   ]
  },
  {
   "cell_type": "code",
   "execution_count": 4,
   "id": "0590510d",
   "metadata": {},
   "outputs": [
    {
     "name": "stdout",
     "output_type": "stream",
     "text": [
      "<class 'pandas.core.frame.DataFrame'>\n",
      "RangeIndex: 10000 entries, 0 to 9999\n",
      "Data columns (total 3 columns):\n",
      " #   Column  Non-Null Count  Dtype  \n",
      "---  ------  --------------  -----  \n",
      " 0   Gender  10000 non-null  object \n",
      " 1   Height  10000 non-null  float64\n",
      " 2   Weight  10000 non-null  float64\n",
      "dtypes: float64(2), object(1)\n",
      "memory usage: 234.5+ KB\n"
     ]
    }
   ],
   "source": [
    "dataset.info()"
   ]
  },
  {
   "cell_type": "markdown",
   "id": "993cdd48",
   "metadata": {},
   "source": [
    "Let's just look at males for this analysis"
   ]
  },
  {
   "cell_type": "code",
   "execution_count": 5,
   "id": "5842021b",
   "metadata": {},
   "outputs": [],
   "source": [
    "dataset = dataset[dataset['Gender']=='Male']"
   ]
  },
  {
   "cell_type": "code",
   "execution_count": 6,
   "id": "f42aa4ed",
   "metadata": {},
   "outputs": [
    {
     "data": {
      "text/plain": [
       "<matplotlib.collections.PathCollection at 0x1efbeaa23d0>"
      ]
     },
     "execution_count": 6,
     "metadata": {},
     "output_type": "execute_result"
    },
    {
     "data": {
      "image/png": "[encoded data removed]",
      "text/plain": [
       "<Figure size 432x288 with 1 Axes>"
      ]
     },
     "metadata": {
      "needs_background": "light"
     },
     "output_type": "display_data"
    }
   ],
   "source": [
    "plt.scatter(x=dataset['Height'],y=dataset['Weight'])"
   ]
  },
  {
   "cell_type": "code",
   "execution_count": 7,
   "id": "2af9552e",
   "metadata": {},
   "outputs": [],
   "source": [
    "slope, intercept, r_value, pv, stderr = stats.linregress(dataset['Height'],dataset['Weight'])"
   ]
  },
  {
   "cell_type": "code",
   "execution_count": 8,
   "id": "e745c57b",
   "metadata": {},
   "outputs": [
    {
     "data": {
      "text/plain": [
       "5.961773812027692"
      ]
     },
     "execution_count": 8,
     "metadata": {},
     "output_type": "execute_result"
    }
   ],
   "source": [
    "slope"
   ]
  },
  {
   "cell_type": "code",
   "execution_count": 9,
   "id": "6fd49cd7",
   "metadata": {},
   "outputs": [
    {
     "data": {
      "text/plain": [
       "<matplotlib.legend.Legend at 0x1efbe9f7f40>"
      ]
     },
     "execution_count": 9,
     "metadata": {},
     "output_type": "execute_result"
    },
    {
     "data": {
      "image/png": "[encoded data removed]",
      "text/plain": [
       "<Figure size 432x288 with 1 Axes>"
      ]
     },
     "metadata": {
      "needs_background": "light"
     },
     "output_type": "display_data"
    }
   ],
   "source": [
    "sns.regplot(x='Height',y='Weight', data=dataset, ci=None, label=\"y={0:.1f}x+{1:.1f}\".format(slope,intercept)).legend(loc=\"best\")"
   ]
  },
  {
   "cell_type": "markdown",
   "id": "a0bd4512",
   "metadata": {},
   "source": [
    "Looks like the regression formula for the data is y=6x-224.5! So the true association between height and weight in the complete data set is ~6 (the slope). So roughtly for every inch in height, you weigh 6 pounts more. The central limit theorum postulates that if we take random samples from this data that are large enough, then the samples' slopes should fall within the normal distribution based on the standard error values of height. Let's calculate the standard error."
   ]
  },
  {
   "cell_type": "code",
   "execution_count": 10,
   "id": "b21b4589",
   "metadata": {},
   "outputs": [
    {
     "data": {
      "text/plain": [
       "Height    0.040494\n",
       "Weight    0.279748\n",
       "dtype: float64"
      ]
     },
     "execution_count": 10,
     "metadata": {},
     "output_type": "execute_result"
    }
   ],
   "source": [
    "dataset.sem(axis=0)"
   ]
  },
  {
   "cell_type": "markdown",
   "id": "e163d31c",
   "metadata": {},
   "source": [
    "Standard error for height is 0.040494. Let's take 10000 samples from the broader data set and determine how many of their slopes (the relationship between height and weight) fall within 2 se values = it should be roughly 95%"
   ]
  },
  {
   "cell_type": "code",
   "execution_count": 11,
   "id": "f70a6752",
   "metadata": {},
   "outputs": [],
   "source": [
    "se = 0.040494\n",
    "sample_size = 10000\n",
    "df_sample_slopes = pd.DataFrame()"
   ]
  },
  {
   "cell_type": "code",
   "execution_count": 12,
   "id": "7a25156b",
   "metadata": {},
   "outputs": [],
   "source": [
    "slopes = []\n",
    "for x in range (sample_size):\n",
    "    df = dataset.sample(n=500)\n",
    "    slope, intercept, r_value, pv, se = stats.linregress(df['Height'],df['Weight'])\n",
    "    slopes.append(slope)\n",
    "slopes = pd.DataFrame(slopes)"
   ]
  },
  {
   "cell_type": "code",
   "execution_count": 13,
   "id": "ad3c5ed7",
   "metadata": {},
   "outputs": [
    {
     "data": {
      "text/html": [
       "<div>\n",
       "<style scoped>\n",
       "    .dataframe tbody tr th:only-of-type {\n",
       "        vertical-align: middle;\n",
       "    }\n",
       "\n",
       "    .dataframe tbody tr th {\n",
       "        vertical-align: top;\n",
       "    }\n",
       "\n",
       "    .dataframe thead th {\n",
       "        text-align: right;\n",
       "    }\n",
       "</style>\n",
       "<table border=\"1\" class=\"dataframe\">\n",
       "  <thead>\n",
       "    <tr style=\"text-align: right;\">\n",
       "      <th></th>\n",
       "      <th>0</th>\n",
       "    </tr>\n",
       "  </thead>\n",
       "  <tbody>\n",
       "    <tr>\n",
       "      <th>0</th>\n",
       "      <td>5.788047</td>\n",
       "    </tr>\n",
       "    <tr>\n",
       "      <th>1</th>\n",
       "      <td>5.729554</td>\n",
       "    </tr>\n",
       "    <tr>\n",
       "      <th>2</th>\n",
       "      <td>5.816605</td>\n",
       "    </tr>\n",
       "    <tr>\n",
       "      <th>3</th>\n",
       "      <td>5.940621</td>\n",
       "    </tr>\n",
       "    <tr>\n",
       "      <th>4</th>\n",
       "      <td>5.896838</td>\n",
       "    </tr>\n",
       "    <tr>\n",
       "      <th>...</th>\n",
       "      <td>...</td>\n",
       "    </tr>\n",
       "    <tr>\n",
       "      <th>9995</th>\n",
       "      <td>5.852192</td>\n",
       "    </tr>\n",
       "    <tr>\n",
       "      <th>9996</th>\n",
       "      <td>6.090275</td>\n",
       "    </tr>\n",
       "    <tr>\n",
       "      <th>9997</th>\n",
       "      <td>5.899551</td>\n",
       "    </tr>\n",
       "    <tr>\n",
       "      <th>9998</th>\n",
       "      <td>5.765015</td>\n",
       "    </tr>\n",
       "    <tr>\n",
       "      <th>9999</th>\n",
       "      <td>6.268270</td>\n",
       "    </tr>\n",
       "  </tbody>\n",
       "</table>\n",
       "<p>10000 rows × 1 columns</p>\n",
       "</div>"
      ],
      "text/plain": [
       "             0\n",
       "0     5.788047\n",
       "1     5.729554\n",
       "2     5.816605\n",
       "3     5.940621\n",
       "4     5.896838\n",
       "...        ...\n",
       "9995  5.852192\n",
       "9996  6.090275\n",
       "9997  5.899551\n",
       "9998  5.765015\n",
       "9999  6.268270\n",
       "\n",
       "[10000 rows x 1 columns]"
      ]
     },
     "execution_count": 13,
     "metadata": {},
     "output_type": "execute_result"
    }
   ],
   "source": [
    "slopes"
   ]
  },
  {
   "cell_type": "code",
   "execution_count": 14,
   "id": "3a2597ca",
   "metadata": {},
   "outputs": [
    {
     "data": {
      "text/plain": [
       "9648"
      ]
     },
     "execution_count": 14,
     "metadata": {},
     "output_type": "execute_result"
    }
   ],
   "source": [
    "slopes[0].between(left=6 - (2*se), right=6 + (2*se)).sum()"
   ]
  },
  {
   "cell_type": "markdown",
   "id": "a17105d0",
   "metadata": {},
   "source": [
    "Looks like ~97% as expected (should be greater than 95%)! Let's see if roughly 68% of the values fall within 1 se"
   ]
  },
  {
   "cell_type": "code",
   "execution_count": 15,
   "id": "4b6a5ab0",
   "metadata": {},
   "outputs": [
    {
     "data": {
      "text/plain": [
       "7105"
      ]
     },
     "execution_count": 15,
     "metadata": {},
     "output_type": "execute_result"
    }
   ],
   "source": [
    "slopes[0].between(left=6 - (1*se), right=6 + (1*se)).sum()"
   ]
  },
  {
   "cell_type": "markdown",
   "id": "2e05dddf",
   "metadata": {},
   "source": [
    "Looks like ~71% as expected! Very good. The theorum holds!"
   ]
  }
 ],
 "metadata": {
  "kernelspec": {
   "display_name": "Python 3",
   "language": "python",
   "name": "python3"
  },
  "language_info": {
   "codemirror_mode": {
    "name": "ipython",
    "version": 3
   },
   "file_extension": ".py",
   "mimetype": "text/x-python",
   "name": "python",
   "nbconvert_exporter": "python",
   "pygments_lexer": "ipython3",
   "version": "3.8.8"
  }
 },
 "nbformat": 4,
 "nbformat_minor": 5
}
