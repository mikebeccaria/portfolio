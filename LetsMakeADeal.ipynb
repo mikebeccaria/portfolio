{
 "cells": [
  {
   "cell_type": "markdown",
   "id": "dcd9bc49",
   "metadata": {},
   "source": [
    "I have been reading \"Naked Statistics: Stripping the Dread from the Data\" by Charles Wheelan (ISBN: 978-0-393-07195-5) and read a chapter that described the game show \"Let's Make a Deal\" from the 1980's. In the game, Monty Hall presents contestants with the option to win a prize behind 1 of 3 doors. Behind 1 of the doors is a great prize, like a car. Behind the two other doors is a valueless prize. When a contestant chooses a door (let's say door #1), Monty then reveals one of the other two doors that does not contain the major prize (let's say door #3) and then asks the contestant if they would like to stay with their original selection (door #1) or switch to the now unrevealed door #2. Intution might say that it makes no difference if you stay or switch, but statistically switching doubles your odds of winning (2/3 change of winning vs. 1/3 change of winning if you keep your original selection). The code below models the game while letting users change the number of doors and the number of random times the game is played. Let's check it out."
   ]
  },
  {
   "cell_type": "code",
   "execution_count": 1,
   "id": "7ca9887d",
   "metadata": {},
   "outputs": [],
   "source": [
    "import numpy"
   ]
  },
  {
   "cell_type": "code",
   "execution_count": 2,
   "id": "facd2f33",
   "metadata": {},
   "outputs": [],
   "source": [
    "class play_game:\n",
    "    def __init__(self):\n",
    "        doors = numpy.zeros(number_of_doors)\n",
    "        self.winning_door = numpy.random.randint(number_of_doors)\n",
    "        doors[self.winning_door] = 1\n",
    "        self.original_chosen_door = numpy.random.randint(number_of_doors)\n",
    "        \n",
    "def play_the_game():\n",
    "    return play_game()"
   ]
  },
  {
   "cell_type": "markdown",
   "id": "90cdd675",
   "metadata": {},
   "source": [
    "Let's run the simulation 10,000 times with 3 doors and see the results - we should expect about a 33.3% change of winning if staying with your original select"
   ]
  },
  {
   "cell_type": "code",
   "execution_count": 3,
   "id": "0a113f80",
   "metadata": {},
   "outputs": [
    {
     "name": "stdout",
     "output_type": "stream",
     "text": [
      "When keeping original answer there were 3334 wins or 33.339999999999996. %\n",
      "When changing original answer there were 6700 wins or 67.0. %\n"
     ]
    }
   ],
   "source": [
    "runs = 10000\n",
    "number_of_doors = 3\n",
    "keep_answer_wins,change_answer_wins = 0,0\n",
    "for turn in range(0, runs - 1):\n",
    "    game = play_the_game()\n",
    "    if game.original_chosen_door == game.winning_door:\n",
    "        keep_answer_wins += 1\n",
    "for turn in range(0, runs - 1):\n",
    "    game = play_the_game()\n",
    "    if game.original_chosen_door != game.winning_door:\n",
    "        change_answer_wins += 1\n",
    "\n",
    "print(\"When keeping original answer there were {} wins or {}. %\".format(keep_answer_wins,keep_answer_wins/runs*100))      \n",
    "print(\"When changing original answer there were {} wins or {}. %\".format(change_answer_wins,change_answer_wins/runs*100))"
   ]
  },
  {
   "cell_type": "markdown",
   "id": "dcbbf4c7",
   "metadata": {},
   "source": [
    "Let's try and run it with 50 doors (assuming Monty reveals all of the wrong choices and allows you to switch). We should expect about a 2% chance of winning when staying with our original choice."
   ]
  },
  {
   "cell_type": "code",
   "execution_count": 4,
   "id": "a5281712",
   "metadata": {},
   "outputs": [
    {
     "name": "stdout",
     "output_type": "stream",
     "text": [
      "When keeping original answer there were 214 wins or 2.1399999999999997. %\n",
      "When changing original answer there were 9787 wins or 97.87. %\n"
     ]
    }
   ],
   "source": [
    "runs = 10000\n",
    "number_of_doors = 50\n",
    "keep_answer_wins,keep_answer_losses,change_answer_wins,change_answer_losses = 0,0,0,0\n",
    "for turn in range(0, runs - 1):\n",
    "    game = play_the_game()\n",
    "    if game.original_chosen_door == game.winning_door:\n",
    "        keep_answer_wins += 1\n",
    "for turn in range(0, runs - 1):\n",
    "    game = play_the_game()\n",
    "    if game.original_chosen_door != game.winning_door:\n",
    "        change_answer_wins += 1\n",
    "\n",
    "print(\"When keeping original answer there were {} wins or {}. %\".format(keep_answer_wins,keep_answer_wins/runs*100))      \n",
    "print(\"When changing original answer there were {} wins or {}. %\".format(change_answer_wins,change_answer_wins/runs*100))"
   ]
  },
  {
   "cell_type": "markdown",
   "id": "593cfa07",
   "metadata": {},
   "source": [
    "Let's try one last iteration with 100 doors - expecting a 1% win rate with no switch."
   ]
  },
  {
   "cell_type": "code",
   "execution_count": 5,
   "id": "7fea69ba",
   "metadata": {},
   "outputs": [
    {
     "name": "stdout",
     "output_type": "stream",
     "text": [
      "When keeping original answer there were 97 wins or 0.97. %\n",
      "When changing original answer there were 9896 wins or 98.96000000000001. %\n"
     ]
    }
   ],
   "source": [
    "runs = 10000\n",
    "number_of_doors = 100\n",
    "keep_answer_wins,keep_answer_losses,change_answer_wins,change_answer_losses = 0,0,0,0\n",
    "for turn in range(0, runs - 1):\n",
    "    game = play_the_game()\n",
    "    if game.original_chosen_door == game.winning_door:\n",
    "        keep_answer_wins += 1\n",
    "for turn in range(0, runs - 1):\n",
    "    game = play_the_game()\n",
    "    if game.original_chosen_door != game.winning_door:\n",
    "        change_answer_wins += 1\n",
    "\n",
    "print(\"When keeping original answer there were {} wins or {}. %\".format(keep_answer_wins,keep_answer_wins/runs*100))      \n",
    "print(\"When changing original answer there were {} wins or {}. %\".format(change_answer_wins,change_answer_wins/runs*100))"
   ]
  },
  {
   "cell_type": "markdown",
   "id": "c98fd1df",
   "metadata": {},
   "source": [
    "Conclusion: If you ever find yourself on the gameshow and Monty asks you if you want to keep your original selection of switch, always switch!"
   ]
  }
 ],
 "metadata": {
  "kernelspec": {
   "display_name": "Python 3",
   "language": "python",
   "name": "python3"
  },
  "language_info": {
   "codemirror_mode": {
    "name": "ipython",
    "version": 3
   },
   "file_extension": ".py",
   "mimetype": "text/x-python",
   "name": "python",
   "nbconvert_exporter": "python",
   "pygments_lexer": "ipython3",
   "version": "3.8.8"
  }
 },
 "nbformat": 4,
 "nbformat_minor": 5
}
